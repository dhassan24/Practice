{
 "cells": [
  {
   "cell_type": "markdown",
   "metadata": {},
   "source": [
    "Given: A DNA string s of length at most 1000 nt\n",
    "Return: Four integers, separate by spaces, counting the respective numberoof times that each nucleotides occur in s\n",
    "\n",
    "**Sample Dataset**\n",
    "AGCTTTTCATTCTGACTGCAACGGGCAATATGTCTCTGTGTGGATTAAAAAAAGAGTGTCTGATAGCAGC\n",
    "\n",
    "**Sample Output**\n",
    "20 12 17 21"
   ]
  },
  {
   "cell_type": "code",
   "execution_count": null,
   "metadata": {
    "vscode": {
     "languageId": "plaintext"
    }
   },
   "outputs": [],
   "source": [
    "def count_nucleotides(insert_strand):\n",
    "    if len(insert_strand) <= 1000:\n",
    "        "
   ]
  }
 ],
 "metadata": {
  "language_info": {
   "name": "python"
  }
 },
 "nbformat": 4,
 "nbformat_minor": 2
}
